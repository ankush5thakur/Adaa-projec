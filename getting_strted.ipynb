{
  "nbformat": 4,
  "nbformat_minor": 0,
  "metadata": {
    "colab": {
      "provenance": [],
      "authorship_tag": "ABX9TyMxlX8eUS4sE9Tl8+oCK5vB",
      "include_colab_link": true
    },
    "kernelspec": {
      "name": "python3",
      "display_name": "Python 3"
    },
    "language_info": {
      "name": "python"
    }
  },
  "cells": [
    {
      "cell_type": "markdown",
      "metadata": {
        "id": "view-in-github",
        "colab_type": "text"
      },
      "source": [
        "<a href=\"https://colab.research.google.com/github/ankush5thakur/Adaa-projec/blob/main/getting_strted.ipynb\" target=\"_parent\"><img src=\"https://colab.research.google.com/assets/colab-badge.svg\" alt=\"Open In Colab\"/></a>"
      ]
    },
    {
      "cell_type": "markdown",
      "source": [
        "commit\n"
      ],
      "metadata": {
        "id": "TA25INgnc3mR"
      }
    },
    {
      "cell_type": "code",
      "execution_count": 1,
      "metadata": {
        "colab": {
          "base_uri": "https://localhost:8080/"
        },
        "id": "R4u64p1xbwa2",
        "outputId": "6c63a7d4-2597-4ac4-c73e-979752b4c672"
      },
      "outputs": [
        {
          "output_type": "stream",
          "name": "stdout",
          "text": [
            "HARHAR MAHADEV\n"
          ]
        }
      ],
      "source": [
        "print('HARHAR MAHADEV')"
      ]
    },
    {
      "cell_type": "markdown",
      "source": [
        "import packages\n"
      ],
      "metadata": {
        "id": "ql2qVZqFdArW"
      }
    },
    {
      "cell_type": "code",
      "source": [
        "import pandas as pd\n",
        "import numpy as np"
      ],
      "metadata": {
        "id": "M6G1ylQuc_P3"
      },
      "execution_count": 2,
      "outputs": []
    },
    {
      "cell_type": "code",
      "source": [],
      "metadata": {
        "id": "SgVf9vwddNZC"
      },
      "execution_count": null,
      "outputs": []
    }
  ]
}